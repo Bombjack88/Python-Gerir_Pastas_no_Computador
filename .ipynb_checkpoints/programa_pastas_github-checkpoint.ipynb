{
 "cells": [
  {
   "cell_type": "markdown",
   "metadata": {},
   "source": [
    "# Inputs e Bibliotecas"
   ]
  },
  {
   "cell_type": "markdown",
   "metadata": {},
   "source": [
    "## Definir o periodo"
   ]
  },
  {
   "cell_type": "code",
   "execution_count": 1,
   "metadata": {},
   "outputs": [],
   "source": [
    "periodo='2022_05'"
   ]
  },
  {
   "cell_type": "markdown",
   "metadata": {},
   "source": [
    "## Bibliotecas"
   ]
  },
  {
   "cell_type": "code",
   "execution_count": 2,
   "metadata": {},
   "outputs": [],
   "source": [
    "from pathlib import Path\n",
    "import shutil"
   ]
  },
  {
   "cell_type": "markdown",
   "metadata": {},
   "source": [
    "# Criar as pastas necessárias"
   ]
  },
  {
   "cell_type": "markdown",
   "metadata": {},
   "source": [
    "## Consulta do caminho e das pastas - validar se estou no local certo"
   ]
  },
  {
   "cell_type": "code",
   "execution_count": 3,
   "metadata": {},
   "outputs": [
    {
     "name": "stdout",
     "output_type": "stream",
     "text": [
      "G:\\DDEMC\\10C-PEDIDOS\\01 - REGULARES\\M 11 - Backflow data\n"
     ]
    }
   ],
   "source": [
    "caminho= Path(r'G:/DDEMC/10C-PEDIDOS/01 - REGULARES/M 11 - Backflow data')\n",
    "print (caminho)"
   ]
  },
  {
   "cell_type": "code",
   "execution_count": 4,
   "metadata": {},
   "outputs": [
    {
     "name": "stdout",
     "output_type": "stream",
     "text": [
      "G:\\DDEMC\\10C-PEDIDOS\\01 - REGULARES\\M 11 - Backflow data\\2021_01\n",
      "G:\\DDEMC\\10C-PEDIDOS\\01 - REGULARES\\M 11 - Backflow data\\2021_02\n",
      "G:\\DDEMC\\10C-PEDIDOS\\01 - REGULARES\\M 11 - Backflow data\\2021_03\n",
      "G:\\DDEMC\\10C-PEDIDOS\\01 - REGULARES\\M 11 - Backflow data\\2021_04\n",
      "G:\\DDEMC\\10C-PEDIDOS\\01 - REGULARES\\M 11 - Backflow data\\2021_05\n",
      "G:\\DDEMC\\10C-PEDIDOS\\01 - REGULARES\\M 11 - Backflow data\\2021_06\n",
      "G:\\DDEMC\\10C-PEDIDOS\\01 - REGULARES\\M 11 - Backflow data\\2021_07\n",
      "G:\\DDEMC\\10C-PEDIDOS\\01 - REGULARES\\M 11 - Backflow data\\2021_08\n",
      "G:\\DDEMC\\10C-PEDIDOS\\01 - REGULARES\\M 11 - Backflow data\\2021_09\n",
      "G:\\DDEMC\\10C-PEDIDOS\\01 - REGULARES\\M 11 - Backflow data\\2021_10\n",
      "G:\\DDEMC\\10C-PEDIDOS\\01 - REGULARES\\M 11 - Backflow data\\2021_11\n",
      "G:\\DDEMC\\10C-PEDIDOS\\01 - REGULARES\\M 11 - Backflow data\\2021_12\n",
      "G:\\DDEMC\\10C-PEDIDOS\\01 - REGULARES\\M 11 - Backflow data\\2022_01\n",
      "G:\\DDEMC\\10C-PEDIDOS\\01 - REGULARES\\M 11 - Backflow data\\2022_02\n",
      "G:\\DDEMC\\10C-PEDIDOS\\01 - REGULARES\\M 11 - Backflow data\\2022_03\n",
      "G:\\DDEMC\\10C-PEDIDOS\\01 - REGULARES\\M 11 - Backflow data\\2022_04\n",
      "G:\\DDEMC\\10C-PEDIDOS\\01 - REGULARES\\M 11 - Backflow data\\Aux_validação_backflows.xlsx\n",
      "G:\\DDEMC\\10C-PEDIDOS\\01 - REGULARES\\M 11 - Backflow data\\Distribuição Triplas_EMF.xlsx - Shortcut.lnk\n",
      "G:\\DDEMC\\10C-PEDIDOS\\01 - REGULARES\\M 11 - Backflow data\\Links_Informação.txt\n",
      "G:\\DDEMC\\10C-PEDIDOS\\01 - REGULARES\\M 11 - Backflow data\\Lista_Interlocutores_EMF.xlsx - Shortcut.lnk\n",
      "G:\\DDEMC\\10C-PEDIDOS\\01 - REGULARES\\M 11 - Backflow data\\NOVO_MODELO_2022\n",
      "G:\\DDEMC\\10C-PEDIDOS\\01 - REGULARES\\M 11 - Backflow data\\OLD\n"
     ]
    }
   ],
   "source": [
    "#teste para ver as pastas e arquivos que existem no 'caminho'  \n",
    "arquivos=caminho.iterdir()\n",
    "for arquivo in arquivos:\n",
    "    print(arquivo)"
   ]
  },
  {
   "cell_type": "markdown",
   "metadata": {},
   "source": [
    "## Criar a pasta do ano"
   ]
  },
  {
   "cell_type": "code",
   "execution_count": 5,
   "metadata": {},
   "outputs": [
    {
     "name": "stdout",
     "output_type": "stream",
     "text": [
      "A pasta 2022_05 foi criada com sucesso.\n"
     ]
    }
   ],
   "source": [
    "if not Path(r'G:/DDEMC/10C-PEDIDOS/01 - REGULARES/M 11 - Backflow data/{}'.format(periodo)). exists():\n",
    "    Path(r'G:/DDEMC/10C-PEDIDOS/01 - REGULARES/M 11 - Backflow data/{}'.format(periodo)).mkdir()\n",
    "    print(f'A pasta {periodo} foi criada com sucesso.')\n",
    "else: \n",
    "    print(f' A pasta {periodo} já existe.')"
   ]
  },
  {
   "cell_type": "markdown",
   "metadata": {},
   "source": [
    "## Criar as quatro subpastas - optei por colocar numa lista"
   ]
  },
  {
   "cell_type": "code",
   "execution_count": 6,
   "metadata": {},
   "outputs": [
    {
     "name": "stdout",
     "output_type": "stream",
     "text": [
      "Pasta 'Enviados' criada com sucesso.\n",
      "Pasta 'Excel' criada com sucesso.\n",
      "Pasta 'Excel password' criada com sucesso.\n",
      "Pasta 'PDFs' criada com sucesso.\n"
     ]
    }
   ],
   "source": [
    "lista_pastas=['Enviados','Excel','Excel password','PDFs']\n",
    "for pasta in lista_pastas:\n",
    "    #print(Path(r'G:/DDEMC/10C-PEDIDOS/01 - REGULARES/M 11 - Backflow data/{}/{}'.format(periodo, pasta)))\n",
    "    if not Path(r'G:/DDEMC/10C-PEDIDOS/01 - REGULARES/M 11 - Backflow data/{}/{}'.format(periodo, pasta)).exists():\n",
    "        Path(r'G:/DDEMC/10C-PEDIDOS/01 - REGULARES/M 11 - Backflow data/{}/{}'.format(periodo, pasta)).mkdir()\n",
    "        print(f\"Pasta '{pasta}' criada com sucesso.\")\n",
    "    else:\n",
    "        print(f\" A pasta '{pasta}' já existe.\")"
   ]
  },
  {
   "cell_type": "markdown",
   "metadata": {},
   "source": [
    "# Mover os arquivos entre as pastas existentes e as criadas"
   ]
  },
  {
   "cell_type": "markdown",
   "metadata": {},
   "source": [
    "## Criar cada um dos caminhos"
   ]
  },
  {
   "cell_type": "code",
   "execution_count": 7,
   "metadata": {},
   "outputs": [],
   "source": [
    "# caminhos onde foram gerados os ficheiros\n",
    "arquivos_excel=Path(r'G:/DDEMC/10C-PEDIDOS/01 - REGULARES/M 11 - Backflow data/NOVO_MODELO_2022/Outputs')\n",
    "arquivos_excel_password=Path(r'G:/DDEMC/10C-PEDIDOS/01 - REGULARES/M 11 - Backflow data/NOVO_MODELO_2022/Outputs_password')\n",
    "arquivos_pdf=Path(r'G:/DDEMC/10C-PEDIDOS/01 - REGULARES/M 11 - Backflow data\\NOVO_MODELO_2022/Outputs_pdf')\n",
    "                  \n",
    "periodo_2=periodo.replace('_','')\n",
    "\n",
    "# caminhos de destino\n",
    "destino_excel=Path(r'G:/DDEMC/10C-PEDIDOS/01 - REGULARES/M 11 - Backflow data/{}/Excel'.format(periodo))                  \n",
    "destino_excel_password=Path(r'G:/DDEMC/10C-PEDIDOS/01 - REGULARES/M 11 - Backflow data/{}/Excel password'.format(periodo)) \n",
    "destino_pdf=Path(r'G:/DDEMC/10C-PEDIDOS/01 - REGULARES/M 11 - Backflow data/{}/PDFs'.format(periodo))                 "
   ]
  },
  {
   "cell_type": "markdown",
   "metadata": {},
   "source": [
    "## Copiar os arquivos"
   ]
  },
  {
   "cell_type": "code",
   "execution_count": 8,
   "metadata": {},
   "outputs": [
    {
     "name": "stdout",
     "output_type": "stream",
     "text": [
      "O arquivo 'Backflows_0007_202205.xlsx' foi copiado com sucesso.\n",
      "O arquivo 'Backflows_0010_202205.xlsx' foi copiado com sucesso.\n",
      "O arquivo 'Backflows_0014_202205.xlsx' foi copiado com sucesso.\n",
      "O arquivo 'Backflows_0018_202205.xlsx' foi copiado com sucesso.\n",
      "O arquivo 'Backflows_0019_202205.xlsx' foi copiado com sucesso.\n",
      "O arquivo 'Backflows_0022_202205.xlsx' foi copiado com sucesso.\n",
      "O arquivo 'Backflows_0023_202205.xlsx' foi copiado com sucesso.\n",
      "O arquivo 'Backflows_0025_202205.xlsx' foi copiado com sucesso.\n",
      "O arquivo 'Backflows_0032_202205.xlsx' foi copiado com sucesso.\n",
      "O arquivo 'Backflows_0033_202205.xlsx' foi copiado com sucesso.\n",
      "O arquivo 'Backflows_0034_202205.xlsx' foi copiado com sucesso.\n",
      "O arquivo 'Backflows_0035_202205.xlsx' foi copiado com sucesso.\n",
      "O arquivo 'Backflows_0036_202205.xlsx' foi copiado com sucesso.\n",
      "O arquivo 'Backflows_0043_202205.xlsx' foi copiado com sucesso.\n",
      "O arquivo 'Backflows_0047_202205.xlsx' foi copiado com sucesso.\n",
      "O arquivo 'Backflows_0048_202205.xlsx' foi copiado com sucesso.\n",
      "O arquivo 'Backflows_0060_202205.xlsx' foi copiado com sucesso.\n",
      "O arquivo 'Backflows_0061_202205.xlsx' foi copiado com sucesso.\n",
      "O arquivo 'Backflows_0063_202205.xlsx' foi copiado com sucesso.\n",
      "O arquivo 'Backflows_0073_202205.xlsx' foi copiado com sucesso.\n",
      "O arquivo 'Backflows_0079_202205.xlsx' foi copiado com sucesso.\n",
      "O arquivo 'Backflows_0169_202205.xlsx' foi copiado com sucesso.\n",
      "O arquivo 'Backflows_0170_202205.xlsx' foi copiado com sucesso.\n",
      "O arquivo 'Backflows_0192_202205.xlsx' foi copiado com sucesso.\n",
      "O arquivo 'Backflows_0193_202205.xlsx' foi copiado com sucesso.\n",
      "O arquivo 'Backflows_0266_202205.xlsx' foi copiado com sucesso.\n",
      "O arquivo 'Backflows_0269_202205.xlsx' foi copiado com sucesso.\n",
      "O arquivo 'Backflows_0271_202205.xlsx' foi copiado com sucesso.\n",
      "O arquivo 'Backflows_0272_202205.xlsx' foi copiado com sucesso.\n",
      "O arquivo 'Backflows_0276_202205.xlsx' foi copiado com sucesso.\n",
      "O arquivo 'Backflows_0500_202205.xlsx' foi copiado com sucesso.\n",
      "O arquivo 'Backflows_0780_202205.xlsx' foi copiado com sucesso.\n",
      "O arquivo 'Backflows_0848_202205.xlsx' foi copiado com sucesso.\n",
      "O arquivo 'Backflows_0916_202205.xlsx' foi copiado com sucesso.\n",
      "O arquivo 'Backflows_0921_202205.xlsx' foi copiado com sucesso.\n",
      "O arquivo 'Backflows_8999_202205.xlsx' foi copiado com sucesso.\n",
      "O arquivo 'Backflows_9000_202205.xlsx' foi copiado com sucesso.\n"
     ]
    }
   ],
   "source": [
    "#percorrer coda um dos arquivos e copiar - pasta excel\n",
    "arquivos=arquivos_excel.iterdir()\n",
    "for arquivo in arquivos:\n",
    "    if periodo_2 in arquivo.name and 'Template' not in arquivo.name:\n",
    "        if not Path(r'G:/DDEMC/10C-PEDIDOS/01 - REGULARES/M 11 - Backflow data/{}/Excel/{}'.format(periodo,arquivo.name)).exists():\n",
    "            shutil.copy2(arquivo,Path(f'{destino_excel}/{arquivo.name}'))\n",
    "            print(\"O arquivo '{}' foi copiado com sucesso.\".format(arquivo.name))"
   ]
  },
  {
   "cell_type": "code",
   "execution_count": 9,
   "metadata": {},
   "outputs": [
    {
     "name": "stdout",
     "output_type": "stream",
     "text": [
      "O arquivo 'Backflows_0007_202205.xlsx' foi copiado com sucesso.\n",
      "O arquivo 'Backflows_0010_202205.xlsx' foi copiado com sucesso.\n",
      "O arquivo 'Backflows_0014_202205.xlsx' foi copiado com sucesso.\n",
      "O arquivo 'Backflows_0018_202205.xlsx' foi copiado com sucesso.\n",
      "O arquivo 'Backflows_0019_202205.xlsx' foi copiado com sucesso.\n",
      "O arquivo 'Backflows_0022_202205.xlsx' foi copiado com sucesso.\n",
      "O arquivo 'Backflows_0023_202205.xlsx' foi copiado com sucesso.\n",
      "O arquivo 'Backflows_0025_202205.xlsx' foi copiado com sucesso.\n",
      "O arquivo 'Backflows_0032_202205.xlsx' foi copiado com sucesso.\n",
      "O arquivo 'Backflows_0033_202205.xlsx' foi copiado com sucesso.\n",
      "O arquivo 'Backflows_0034_202205.xlsx' foi copiado com sucesso.\n",
      "O arquivo 'Backflows_0035_202205.xlsx' foi copiado com sucesso.\n",
      "O arquivo 'Backflows_0036_202205.xlsx' foi copiado com sucesso.\n",
      "O arquivo 'Backflows_0043_202205.xlsx' foi copiado com sucesso.\n",
      "O arquivo 'Backflows_0047_202205.xlsx' foi copiado com sucesso.\n",
      "O arquivo 'Backflows_0048_202205.xlsx' foi copiado com sucesso.\n",
      "O arquivo 'Backflows_0060_202205.xlsx' foi copiado com sucesso.\n",
      "O arquivo 'Backflows_0061_202205.xlsx' foi copiado com sucesso.\n",
      "O arquivo 'Backflows_0063_202205.xlsx' foi copiado com sucesso.\n",
      "O arquivo 'Backflows_0073_202205.xlsx' foi copiado com sucesso.\n",
      "O arquivo 'Backflows_0079_202205.xlsx' foi copiado com sucesso.\n",
      "O arquivo 'Backflows_0169_202205.xlsx' foi copiado com sucesso.\n",
      "O arquivo 'Backflows_0170_202205.xlsx' foi copiado com sucesso.\n",
      "O arquivo 'Backflows_0192_202205.xlsx' foi copiado com sucesso.\n",
      "O arquivo 'Backflows_0193_202205.xlsx' foi copiado com sucesso.\n",
      "O arquivo 'Backflows_0266_202205.xlsx' foi copiado com sucesso.\n",
      "O arquivo 'Backflows_0269_202205.xlsx' foi copiado com sucesso.\n",
      "O arquivo 'Backflows_0271_202205.xlsx' foi copiado com sucesso.\n",
      "O arquivo 'Backflows_0272_202205.xlsx' foi copiado com sucesso.\n",
      "O arquivo 'Backflows_0276_202205.xlsx' foi copiado com sucesso.\n",
      "O arquivo 'Backflows_0500_202205.xlsx' foi copiado com sucesso.\n",
      "O arquivo 'Backflows_0780_202205.xlsx' foi copiado com sucesso.\n",
      "O arquivo 'Backflows_0848_202205.xlsx' foi copiado com sucesso.\n",
      "O arquivo 'Backflows_0916_202205.xlsx' foi copiado com sucesso.\n",
      "O arquivo 'Backflows_0921_202205.xlsx' foi copiado com sucesso.\n",
      "O arquivo 'Backflows_9000_202205.xlsx' foi copiado com sucesso.\n"
     ]
    }
   ],
   "source": [
    "#percorrer coda um dos arquivos e copiar- pasta excel password\n",
    "arquivos=arquivos_excel_password.iterdir()\n",
    "for arquivo in arquivos:\n",
    "    if periodo_2 in arquivo.name and 'Template' not in arquivo.name:\n",
    "        if not Path(r'G:/DDEMC/10C-PEDIDOS/01 - REGULARES/M 11 - Backflow data/{}/Excel password/{}'.format(periodo,arquivo.name)).exists():\n",
    "            shutil.copy2(arquivo,Path(f'{destino_excel_password}/{arquivo.name}'))\n",
    "            print(\"O arquivo '{}' foi copiado com sucesso.\".format(arquivo.name))\n",
    "                              "
   ]
  },
  {
   "cell_type": "code",
   "execution_count": 10,
   "metadata": {},
   "outputs": [
    {
     "name": "stdout",
     "output_type": "stream",
     "text": [
      "O arquivo 'Backflows_0007_202205.pdf' foi copiado com sucesso.\n",
      "O arquivo 'Backflows_0010_202205.pdf' foi copiado com sucesso.\n",
      "O arquivo 'Backflows_0014_202205.pdf' foi copiado com sucesso.\n",
      "O arquivo 'Backflows_0018_202205.pdf' foi copiado com sucesso.\n",
      "O arquivo 'Backflows_0019_202205.pdf' foi copiado com sucesso.\n",
      "O arquivo 'Backflows_0022_202205.pdf' foi copiado com sucesso.\n",
      "O arquivo 'Backflows_0023_202205.pdf' foi copiado com sucesso.\n",
      "O arquivo 'Backflows_0025_202205.pdf' foi copiado com sucesso.\n",
      "O arquivo 'Backflows_0032_202205.pdf' foi copiado com sucesso.\n",
      "O arquivo 'Backflows_0033_202205.pdf' foi copiado com sucesso.\n",
      "O arquivo 'Backflows_0034_202205.pdf' foi copiado com sucesso.\n",
      "O arquivo 'Backflows_0035_202205.pdf' foi copiado com sucesso.\n",
      "O arquivo 'Backflows_0036_202205.pdf' foi copiado com sucesso.\n",
      "O arquivo 'Backflows_0043_202205.pdf' foi copiado com sucesso.\n",
      "O arquivo 'Backflows_0047_202205.pdf' foi copiado com sucesso.\n",
      "O arquivo 'Backflows_0048_202205.pdf' foi copiado com sucesso.\n",
      "O arquivo 'Backflows_0060_202205.pdf' foi copiado com sucesso.\n",
      "O arquivo 'Backflows_0061_202205.pdf' foi copiado com sucesso.\n",
      "O arquivo 'Backflows_0063_202205.pdf' foi copiado com sucesso.\n",
      "O arquivo 'Backflows_0073_202205.pdf' foi copiado com sucesso.\n",
      "O arquivo 'Backflows_0079_202205.pdf' foi copiado com sucesso.\n",
      "O arquivo 'Backflows_0169_202205.pdf' foi copiado com sucesso.\n",
      "O arquivo 'Backflows_0170_202205.pdf' foi copiado com sucesso.\n",
      "O arquivo 'Backflows_0192_202205.pdf' foi copiado com sucesso.\n",
      "O arquivo 'Backflows_0193_202205.pdf' foi copiado com sucesso.\n",
      "O arquivo 'Backflows_0266_202205.pdf' foi copiado com sucesso.\n",
      "O arquivo 'Backflows_0269_202205.pdf' foi copiado com sucesso.\n",
      "O arquivo 'Backflows_0271_202205.pdf' foi copiado com sucesso.\n",
      "O arquivo 'Backflows_0272_202205.pdf' foi copiado com sucesso.\n",
      "O arquivo 'Backflows_0276_202205.pdf' foi copiado com sucesso.\n",
      "O arquivo 'Backflows_0500_202205.pdf' foi copiado com sucesso.\n",
      "O arquivo 'Backflows_0780_202205.pdf' foi copiado com sucesso.\n",
      "O arquivo 'Backflows_0848_202205.pdf' foi copiado com sucesso.\n",
      "O arquivo 'Backflows_0916_202205.pdf' foi copiado com sucesso.\n",
      "O arquivo 'Backflows_0921_202205.pdf' foi copiado com sucesso.\n",
      "O arquivo 'Backflows_8999_202205.pdf' foi copiado com sucesso.\n",
      "O arquivo 'Backflows_9000_202205.pdf' foi copiado com sucesso.\n"
     ]
    }
   ],
   "source": [
    "#percorrer coda um dos arquivos - pasta pdf\n",
    "arquivos=arquivos_pdf.iterdir()\n",
    "for arquivo in arquivos:\n",
    "    if periodo_2 in arquivo.name:\n",
    "        if not Path(r'G:/DDEMC/10C-PEDIDOS/01 - REGULARES/M 11 - Backflow data/{}/PDFs/{}'.format(periodo,arquivo.name)).exists():\n",
    "            shutil.copy2(arquivo,Path(f'{destino_pdf}/{arquivo.name}'))\n",
    "            print(\"O arquivo '{}' foi copiado com sucesso.\".format(arquivo.name))                  "
   ]
  },
  {
   "cell_type": "markdown",
   "metadata": {},
   "source": [
    "# Extra DS"
   ]
  },
  {
   "cell_type": "markdown",
   "metadata": {},
   "source": [
    "## Mover um arquivo"
   ]
  },
  {
   "cell_type": "code",
   "execution_count": null,
   "metadata": {},
   "outputs": [],
   "source": [
    "shutil.move(Path('caminho/arquivo.extensao'), Path('caminho_novo/arquivo.extensao'))"
   ]
  }
 ],
 "metadata": {
  "kernelspec": {
   "display_name": "Python 3",
   "language": "python",
   "name": "python3"
  },
  "language_info": {
   "codemirror_mode": {
    "name": "ipython",
    "version": 3
   },
   "file_extension": ".py",
   "mimetype": "text/x-python",
   "name": "python",
   "nbconvert_exporter": "python",
   "pygments_lexer": "ipython3",
   "version": "3.7.3"
  },
  "toc": {
   "base_numbering": 1,
   "nav_menu": {},
   "number_sections": true,
   "sideBar": true,
   "skip_h1_title": false,
   "title_cell": "Table of Contents",
   "title_sidebar": "Contents",
   "toc_cell": false,
   "toc_position": {},
   "toc_section_display": true,
   "toc_window_display": true
  }
 },
 "nbformat": 4,
 "nbformat_minor": 2
}
